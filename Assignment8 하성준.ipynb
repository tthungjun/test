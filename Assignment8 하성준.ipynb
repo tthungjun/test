{
 "cells": [
  {
   "attachments": {},
   "cell_type": "markdown",
   "metadata": {},
   "source": [
    "**<span style=\"color:#ffdce0\">D.Com 2023 신입생 파이썬 스터디</span>**\n",
    "\n",
    "**일곱번째 과제**\n",
    "\n",
    "**과제 풀이 방법:**\n",
    "각 문제 아래 위치한 셀에 코드를 작성하고\n",
    "\"Shift\" + \"Enter\" 를 눌러 셀을 실행시켜 조건에 따른 올바른 결과가 나오도록 합니다.\n",
    "\n",
    "**과제 제출 기한:**\n",
    "다음 수업 전까지 \"강민수\"에게 카카오톡으로 과제 제출해주시면 됩니다.\n",
    "\n",
    "**과제 제출 유의사항:**\n",
    "파일 이름을  \"**Assignment8_홍길동**\" 과 같이 뒤에 이름을 붙여 바꿔주신 후 제출해주시면 됩니다.\n"
   ]
  },
  {
   "cell_type": "markdown",
   "metadata": {},
   "source": [
    "**<span style=\"color:#ffdce0\">문제 1번</span>**</br>\n",
    "</br>\n",
    "튜플 데이터를 인덱싱하여 Python!을 출력하시오</br>\n",
    "</br>\n",
    "조건 1. 튜플 t가 주어진다.</br>\n",
    "</br>\n",
    "출력 형식:</br>\n",
    "Python!</br>\n",
    "</br>\n"
   ]
  },
  {
   "cell_type": "code",
   "execution_count": 1,
   "metadata": {},
   "outputs": [
    {
     "name": "stdout",
     "output_type": "stream",
     "text": [
      "Python!\n"
     ]
    }
   ],
   "source": [
    "#문제 1번\n",
    "\n",
    "t = ('P', ('y', 't', ('h', 'o'), 'n'), '!')\n",
    "print(t[0]+t[1][0]+t[1][1]+t[1][2][0]+t[1][2][1]+t[1][3]+t[2])\n"
   ]
  },
  {
   "cell_type": "markdown",
   "metadata": {},
   "source": [
    "**<span style=\"color:#ffdce0\">문제 2번</span>**</br>\n",
    "</br>\n",
    "집합 2개가 주어졌을때 두 집합의 합집합, 교집합, 차집합 연산 결과를 출력하시오.</br>\n",
    "</br>\n",
    "조건 1. 두 집합 a와 b가 주어진다.</br>\n",
    "</br>\n",
    "조건 2. 차집합 연산을 할 때 a에서 b로 연산을 수행한다.</br>\n",
    "</br>\n",
    "출력 형식:</br>\n",
    "합집합: {3, 4, 5}</br>\n",
    "교집합: {1, 2, 3, 4, 5, 6, 7}</br>\n",
    "차집합: {1, 2}</br>\n"
   ]
  },
  {
   "cell_type": "code",
   "execution_count": 10,
   "metadata": {},
   "outputs": [
    {
     "name": "stdout",
     "output_type": "stream",
     "text": [
      "{1, 2, 3, 4, 5, 6, 7}\n",
      "{3, 4, 5}\n",
      "{1, 2}\n"
     ]
    }
   ],
   "source": [
    "#문제 2번\n",
    "\n",
    "a = set([1, 2, 3, 4, 5])\n",
    "b = set([3, 4, 5, 6, 7])\n",
    "\n",
    "result = a.union(b)\n",
    "print(result)\n",
    "result1 = a. intersection(b)\n",
    "print(result1)\n",
    "result2 = a. difference(b)\n",
    "print(result2)"
   ]
  },
  {
   "attachments": {},
   "cell_type": "markdown",
   "metadata": {},
   "source": [
    "**<span style=\"color:#ffdce0\">문제 3번</span>**</br>\n",
    "</br>\n",
    "숫자 n을 입력받고 n개의 정수를 받아 중복이 없고 정렬되도록 출력하라.</br>\n",
    "</br>\n",
    "조건 1. 변수 n을 선언해 입력을 받아라.</br>\n",
    "</br>\n",
    "조건 2. 반복문으로 n개의 입력을 받아 append 함수를 이용해 리스트에 넣는다.</br>\n",
    "</br>\n",
    "조건 3. set()으로 자료형을 변환해 중복을 제거한다.</br>\n",
    "</br>\n",
    "조건 4. list로 자료형을 변경하고 sort함수를 이용해 리스트를 정렬한다.</br>\n",
    "</br>\n",
    "입력 형식:</br>\n",
    "5</br>\n",
    "3</br>\n",
    "2</br>\n",
    "3</br>\n",
    "1</br>\n",
    "2</br>\n",
    "</br>\n",
    "출력 형식:</br>\n",
    "[1, 2, 3]</br>\n"
   ]
  },
  {
   "cell_type": "code",
   "execution_count": 1,
   "metadata": {},
   "outputs": [
    {
     "name": "stdout",
     "output_type": "stream",
     "text": [
      "[1, 2, 3]\n"
     ]
    }
   ],
   "source": [
    "#문제 3번\n",
    "empty_list = list()\n",
    "n = int(input())\n",
    "for i in range(1, n+1):\n",
    "    a = int(input())\n",
    "    empty_list. append(a)\n",
    "b = set(empty_list)\n",
    "c = list(b)\n",
    "print(c)"
   ]
  },
  {
   "cell_type": "markdown",
   "metadata": {},
   "source": [
    "**<span style=\"color:#ffdce0\">문제 4번</span>**</br>\n",
    "</br>\n",
    "빈 set을 만들고 입력받은 n의 개수만큼 수를 입력받아 선언된 set에 넣어 출력한다.</br>\n",
    "</br>\n",
    "조건 1. 빈 set S를 선언하고 정수 n을 입력받는다.</br>\n",
    "</br>\n",
    "조건 2. n개의 수를 각각 입력받아 S에 넣고 입력이 끝나면 S를 출력한다.</br>\n",
    "</br>\n",
    "입력 형식:</br>\n",
    "6</br>\n",
    "1</br>\n",
    "2</br>\n",
    "3</br>\n",
    "4</br>\n",
    "5</br>\n",
    "5</br>\n",
    "</br>\n",
    "출력 형식:</br>\n",
    "S= {1, 2, 3, 4, 5}</br>\n",
    "</br>"
   ]
  },
  {
   "cell_type": "code",
   "execution_count": 7,
   "metadata": {},
   "outputs": [
    {
     "name": "stdout",
     "output_type": "stream",
     "text": [
      "1\n",
      "2\n",
      "3\n",
      "4\n",
      "5\n",
      "6\n",
      "{1, 2, 3, 4, 5, 6}\n"
     ]
    }
   ],
   "source": [
    "#문제 4번\n",
    "empty_set = set()\n",
    "n = int(input())\n",
    "for i in range(1, n+1):\n",
    "    a = int(input())\n",
    "    print(a)\n",
    "    empty_set.add(a)\n",
    "print(empty_set)\n",
    "\n"
   ]
  },
  {
   "attachments": {},
   "cell_type": "markdown",
   "metadata": {},
   "source": [
    "**<span style=\"color:#ffdce0\">문제 5번</span>**</br>\n",
    "</br>\n",
    "바르셀로나 팀의 멤버를 저장하는 Dictionary를 만들어 보자.</br>\n",
    "</br>\n",
    "조건 1. 선언된 Barcelona Dictionary에서 입력받은 등번호 backnum에 맞는 선수의 이름을 출력한다.</br>\n",
    "</br>\n",
    "조건 2. Barcelona Dictionary에 선수의 정보를 입력받아 추가하고, value를 출력한다.</br>\n",
    "</br>\n",
    "입력 형식:</br>\n",
    "3</br>\n",
    "1</br>\n",
    "Ter Stegen</br>\n",
    "</br>\n",
    "출력 형식:</br>\n",
    "Pique</br>\n",
    "dict_values(['Pique', 'Sergio', 'Pedri', 'De Jong', 'Aubameyang', 'Ter stegen'])</br>\n",
    "</br>"
   ]
  },
  {
   "cell_type": "code",
   "execution_count": 1,
   "metadata": {},
   "outputs": [
    {
     "name": "stdout",
     "output_type": "stream",
     "text": [
      "Pique\n",
      "dict_values(['Pique', 'Sergio', 'Pedri', 'De Jong', 'Aubameyang', 'Lionel Messi'])\n"
     ]
    }
   ],
   "source": [
    "#문제 5번\n",
    "\n",
    "Barcelona = {3: \"Pique\", 5: \"Sergio\", 16: \"Pedri\", 21: \"De Jong\", 25: \"Aubameyang\"}\n",
    "a = int(input())\n",
    "b = int(input())\n",
    "c = input()\n",
    "\n",
    "print(Barcelona[a])\n",
    "Barcelona[b] = c\n",
    "print(Barcelona.values())"
   ]
  }
 ],
 "metadata": {
  "interpreter": {
   "hash": "6e11f4c1efbbb7e108f41e786f571b27c3c9811501888d7e8c289e34fb7fbc6f"
  },
  "kernelspec": {
   "display_name": "Python 3.10.2 64-bit",
   "language": "python",
   "name": "python3"
  },
  "language_info": {
   "codemirror_mode": {
    "name": "ipython",
    "version": 3
   },
   "file_extension": ".py",
   "mimetype": "text/x-python",
   "name": "python",
   "nbconvert_exporter": "python",
   "pygments_lexer": "ipython3",
   "version": "3.11.2"
  },
  "orig_nbformat": 4
 },
 "nbformat": 4,
 "nbformat_minor": 2
}
