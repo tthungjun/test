{
 "cells": [
  {
   "attachments": {},
   "cell_type": "markdown",
   "metadata": {},
   "source": [
    "**<span style=\"color:#ffdce0\">D.Com 2023 신입생 파이썬 스터디</span>**\n",
    "\n",
    "**다섯번째 과제**\n",
    "\n",
    "**과제 풀이 방법:**\n",
    "각 문제 아래 위치한 셀에 코드를 작성하고\n",
    "\"Shift\" + \"Enter\" 를 눌러 셀을 실행시켜 조건에 따른 올바른 결과가 나오도록 합니다.\n",
    "\n",
    "**과제 제출 기한:**\n",
    "다음 수업 전까지 \"강민수\"에게 카카오톡으로 과제 제출해주시면 됩니다.\n",
    "\n",
    "**과제 제출 유의사항:**\n",
    "파일 이름을  \"**Assignment6_홍길동**\" 과 같이 뒤에 이름을 붙여 바꿔주신 후 제출해주시면 됩니다.\n"
   ]
  },
  {
   "cell_type": "markdown",
   "metadata": {},
   "source": [
    "**<span style=\"color:#ffdce0\">문제 1번</span>**</br>\n",
    "</br>\n",
    "in 연산자를 이용하여 strlist로 선언된 변수에서 \"a\"/\"e\"의 여부를 출력하라</br>\n",
    "</br>\n",
    "조건 1. 영어로 된 문장 2개를 리스트로 선언한다.</br>\n",
    "</br>\n",
    "조건 2. 각 문장에서 \"a\"/\"e\"가 1개 이상있으면 \"a\"/\"e\"가 존재합니다.를 출력하고, 없다면 \"a\"/\"e\"가 존재하지 않습니다.를 출력한다.</br>\n",
    "</br>\n",
    "선언 형식:</br>\n",
    "strlist = [\"Hello D.COM\", \"HI D.COM\"]</br>\n",
    "</br>\n",
    "출력 형식:</br>\n",
    "\"a\"/\"e\"가 존재합니다.</br>\n",
    "\"a\"/\"e\"가 존재하지 않습니다.</br>\n",
    "</br>"
   ]
  },
  {
   "cell_type": "code",
   "execution_count": 16,
   "metadata": {},
   "outputs": [
    {
     "name": "stdout",
     "output_type": "stream",
     "text": [
      "\"a\"/\"e\"가 존재합니다\n",
      "\"a\"/\"e\"가 존재하지 않습니다.\n"
     ]
    }
   ],
   "source": [
    "#문제 1번\n",
    "\n",
    "strlist = [\"Hello D.COM\", \"HI D.COM\"]\n",
    "\n",
    "if   \"a\" in strlist[0] or \"e\" in strlist[0]:\n",
    "    print('\"a\"/\"e\"가 존재합니다')\n",
    "else:\n",
    "    print('\"a\"/\"e\"가 존재하지 않습니다.')\n",
    "\n",
    "if  \"a\" in strlist[1] or \"e\" in strlist[1]:\n",
    "    print('\"a\"/\"e\"가 존재합니다')\n",
    "else:\n",
    "    print('\"a\"/\"e\"가 존재하지 않습니다.')"
   ]
  },
  {
   "cell_type": "markdown",
   "metadata": {},
   "source": [
    "**<span style=\"color:#ffdce0\">문제 2번</span>**</br>\n",
    "</br>\n",
    "리스트의 순서를 바꿔 저장하고 출력하라</br>\n",
    "</br>\n",
    "조건 1. list1로 첫번째 리스트를 선언한다.</br>\n",
    "</br>\n",
    "조건 2. index를 이용해 list1의 순서를 바꿔 list2에 저장하고, list1과 list2를 각각 출력하라</br>\n",
    "</br>\n",
    "선언 예시:</br>\n",
    "list1 = [1, 2, 3, 4, 5]</br>\n",
    "</br>\n",
    "출력 형식:</br>\n",
    "list1 = [1, 2, 3, 4, 5]</br>\n",
    "list2 = [5, 4, 3, 2, 1]</br>\n",
    "</br>"
   ]
  },
  {
   "cell_type": "code",
   "execution_count": 1,
   "metadata": {},
   "outputs": [
    {
     "name": "stdout",
     "output_type": "stream",
     "text": [
      "[1, 2, 3, 4, 5]\n",
      "[5, 4, 3, 2, 1]\n",
      "[5, 4, 3, 2, 1]\n"
     ]
    }
   ],
   "source": [
    "#문제 2번\n",
    "\n",
    "list1 = [1, 2, 3, 4 ,5]\n",
    "list2 = [list1.index(5)+1, list1.index(4)+1, list1.index(3)+1, list1.index(2)+1, list1.index(1)+1]\n",
    "list3 = [list1[4], list1[3], list1[2], list1[1], list1[0]]\n",
    "print(list1)\n",
    "print(list2)\n",
    "print(list3)"
   ]
  },
  {
   "cell_type": "markdown",
   "metadata": {},
   "source": [
    "**<span style=\"color:#ffdce0\">문제 3번</span>**</br>\n",
    "</br>\n",
    "리스트의 순서를 바꿔 저장하고 출력하라</br>\n",
    "</br>\n",
    "조건 1. list1로 첫번째 리스트를 선언한다.</br>\n",
    "</br>\n",
    "조건 2. list2를 list1을 copy하여 선언하고, list2를 reverse()를 이용해 뒤집고, list1과 list2를 각각 출력하라</br>\n",
    "</br>\n",
    "선언 예시:</br>\n",
    "list1 = [1, 2, 3, 4, 5]</br>\n",
    "</br>\n",
    "출력 형식:</br>\n",
    "list1 = [1, 2, 3, 4, 5]</br>\n",
    "list2 = [5, 4, 3, 2, 1]</br>\n",
    "</br>"
   ]
  },
  {
   "cell_type": "code",
   "execution_count": 27,
   "metadata": {},
   "outputs": [
    {
     "name": "stdout",
     "output_type": "stream",
     "text": [
      "[1, 2, 3, 4, 5]\n",
      "[5, 4, 3, 2, 1]\n"
     ]
    }
   ],
   "source": [
    "#문제 3번\n",
    "\n",
    "list1 = [1, 2, 3, 4, 5]\n",
    "list2 = list1.copy()\n",
    "list2. reverse()\n",
    "\n",
    "print(list1)\n",
    "print(list2)\n"
   ]
  },
  {
   "cell_type": "markdown",
   "metadata": {},
   "source": [
    "**<span style=\"color:#ffdce0\">문제 4번</span>**</br>\n",
    "</br>\n",
    "리스트가 주어졌을때 리스트의 최솟값, 중간값, 최댓값을 구하시오.</br>\n",
    "</br>\n",
    "조건 1. 무작위로 5개의 수가 배열된 리스트를 선언하고, sort()를 이용해 리스트를 정렬한다.</br>\n",
    "</br>\n",
    "조건 2. 최솟값, 중간값, 최댓값을 구해 각각 출력하라.</br>\n",
    "</br>\n",
    "선연 예시:</br>\n",
    "list = [3, 2, 5, 4, 1]</br>\n",
    "</br>\n",
    "출력 형식:</br>\n",
    "최솟값 : 1</br>\n",
    "중간값 : 3</br>\n",
    "최댓값 : 5</br>"
   ]
  },
  {
   "cell_type": "code",
   "execution_count": 36,
   "metadata": {},
   "outputs": [
    {
     "name": "stdout",
     "output_type": "stream",
     "text": [
      "[1, 2, 3, 4, 5]\n",
      "1\n",
      "3\n",
      "5\n"
     ]
    }
   ],
   "source": [
    "#문제 4번\n",
    "\n",
    "list = [3, 2, 5, 4, 1]\n",
    "list. sort()\n",
    "print(list)\n",
    "print(min(list))\n",
    "print(list[2])\n",
    "print(max(list))"
   ]
  },
  {
   "cell_type": "markdown",
   "metadata": {},
   "source": [
    "**<span style=\"color:#ffdce0\">문제 5번</span>**</br>\n",
    "</br>\n",
    "리스트로 학생들의 점수가 주어졌을 때 전체 성적의 평균을 출력하라</br>\n",
    "</br>\n",
    "조건 1. 평균을 구하는 average 함수를 직접 구현하여 사용한다.</br>\n",
    "</br>\n",
    "조건 2. average 함수는 리스트를 입력 파라미터로 받고, 리스트안에 있는 값의 평균을 반환한다.</br>\n",
    "</br>\n",
    "조건 3. 성적의 평균은 round()를 이용해 반올림하여 정수형으로 출력한다.</br>\n",
    "</br>\n",
    "선언 예시:</br>\n",
    "score = [65, 100, 74, 88, 96, 14, 92, 40, 32]</br>\n",
    "</br>\n",
    "출력 형식:</br>\n",
    "평균값 : 67</br>"
   ]
  },
  {
   "cell_type": "code",
   "execution_count": 4,
   "metadata": {},
   "outputs": [
    {
     "name": "stdout",
     "output_type": "stream",
     "text": [
      "67\n"
     ]
    }
   ],
   "source": [
    "#문제 5번\n",
    "\n",
    "score = [65, 100, 74, 88, 96, 14, 92, 40, 32]\n",
    "\n",
    "def a(score):\n",
    "    result = sum(score)/len(score)\n",
    "    return result\n",
    "\n",
    "print(round(a(score)))"
   ]
  },
  {
   "cell_type": "markdown",
   "metadata": {},
   "source": [
    "**<span style=\"color:#ffdce0\">문제 6번</span>**</br>\n",
    "</br>\n",
    "list = [1, 2, [3, 4, [\"Hello\", 5], \"D.Com\"], \":D\"]</br>\n",
    "위의 리스트가 선언이 되어있을 때, 인덱싱만을 사용하여 리스트 안에 있는 문자열 형식의 값만 출력하라.</br>\n",
    "</br>\n",
    "조건 1. 인덱싱을 제외한 다른 방법은 사용하지 않는다.</br>\n",
    "</br>\n",
    "선언 예시:</br>\n",
    "list = [1, 2, [3, 4, [\"Hello\", 5], \"D.Com\"], \":D\"]</br>\n",
    "</br>\n",
    "출력 형식:</br> \n",
    "Hello D.Com :D</br>\n"
   ]
  },
  {
   "cell_type": "code",
   "execution_count": 1,
   "metadata": {},
   "outputs": [
    {
     "name": "stdout",
     "output_type": "stream",
     "text": [
      "Hello D.Com\n"
     ]
    }
   ],
   "source": [
    "#문제 6번\n",
    "\n",
    "list = [1, 2, [3, 4, [\"Hello\", 5], \"D.Com\"], \":D\"]\n",
    "print(list[2][2][0], list[2][3])\n"
   ]
  },
  {
   "attachments": {},
   "cell_type": "markdown",
   "metadata": {},
   "source": [
    "**<span style=\"color:#ffdce0\">문제 7번</span>**</br>\n",
    "</br>\n",
    "파이썬 스터디의 참여 멤버를 관리하는 프로그램을 만드시오</br>\n",
    "</br>\n",
    "조건 1. study_list라는 이름으로 이름, 나이, 학과를 저장하는 리스트를 선언하고, 현재 정보를 출력한다.</br>\n",
    "</br>\n",
    "조건 2. 마지막 스터디 멤버의 정보를 수정하고, 현재 정보를 출력한다.</br>\n",
    "</br>\n",
    "조건 3. 새로운 스터디 멤버의 정보를 append()를 이용해 추가하고, 현재 정보를 출력한다.</br>\n",
    "</br>\n",
    "조건 4. 추가한 멤버의 정보를 pop()을 이용해 삭제하고, 현재 정보를 출력한다.</br>\n",
    "</br>\n",
    "선언 예시:</br>\n",
    "study_list = [[\"강민수\", 22 , \"인공지능학과\"], [\"김시환\", 22 , \"인공지능학과\"], [\"신정안\", 22 , \"인공지능학과\"]]</br>\n",
    "</br>\n",
    "출력 형식:</br> \n",
    "[[\"강민수\", 22 , \"인공지능학과\"], [\"김시환\", 22 , \"인공지능학과\"], [\"신정안\", 22 , \"인공지능학과\"]]\n",
    "[[\"강민수\", 22 , \"인공지능학과\"], [\"김시환\", 22 , \"인공지능학과\"], [\"송용우\", 19 , \"컴퓨터공학과\"]]</br>\n",
    "[[\"강민수\", 22 , \"인공지능학과\"], [\"김시환\", 22 , \"인공지능학과\"], [\"송용우\", 19 , \"컴퓨터공학과\"], ['이혁승', 22, '컴퓨터공학과']]</br>\n",
    "[[\"강민수\", 22 , \"인공지능학과\"], [\"김시환\", 22 , \"인공지능학과\"], [\"송용우\", 19 , \"컴퓨터공학과\"]]</br>\n"
   ]
  },
  {
   "cell_type": "code",
   "execution_count": 8,
   "metadata": {},
   "outputs": [
    {
     "name": "stdout",
     "output_type": "stream",
     "text": [
      "[['강민수', 22, '인공지능학과'], ['김시환', 22, '인공지능학과'], ['신정안', 22, '인공지능학과']]\n",
      "[['강민수', 22, '인공지능학과'], ['김시환', 22, '인공지능학과'], ['송용우', 19, '컴퓨터공학과']]\n",
      "[['강민수', 22, '인공지능학과'], ['김시환', 22, '인공지능학과'], ['송용우', 19, '컴퓨터공학과'], ['이혁승', 22, '컴퓨터공학과']]\n",
      "[['강민수', 22, '인공지능학과'], ['김시환', 22, '인공지능학과'], ['송용우', 19, '컴퓨터공학과']]\n"
     ]
    }
   ],
   "source": [
    "#문제 7번\n",
    "\n",
    "study_list = [[\"강민수\", 22 , \"인공지능학과\"], [\"김시환\", 22 , \"인공지능학과\"], [\"신정안\", 22 , \"인공지능학과\"]]\n",
    "print(study_list)\n",
    "\n",
    "study_list[2] = [\"송용우\", 19, \"컴퓨터공학과\"]\n",
    "print(study_list)\n",
    "\n",
    "study_list. append([\"이혁승\", 22, \"컴퓨터공학과\"])\n",
    "print(study_list)\n",
    "\n",
    "study_list. pop()\n",
    "print(study_list)\n",
    "\n",
    "\n",
    "\n"
   ]
  },
  {
   "cell_type": "code",
   "execution_count": null,
   "metadata": {},
   "outputs": [],
   "source": []
  }
 ],
 "metadata": {
  "interpreter": {
   "hash": "6e11f4c1efbbb7e108f41e786f571b27c3c9811501888d7e8c289e34fb7fbc6f"
  },
  "kernelspec": {
   "display_name": "Python 3.10.2 64-bit",
   "language": "python",
   "name": "python3"
  },
  "language_info": {
   "codemirror_mode": {
    "name": "ipython",
    "version": 3
   },
   "file_extension": ".py",
   "mimetype": "text/x-python",
   "name": "python",
   "nbconvert_exporter": "python",
   "pygments_lexer": "ipython3",
   "version": "3.11.2"
  },
  "orig_nbformat": 4
 },
 "nbformat": 4,
 "nbformat_minor": 2
}
