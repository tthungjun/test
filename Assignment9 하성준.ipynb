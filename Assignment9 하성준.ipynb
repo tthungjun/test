{
 "cells": [
  {
   "attachments": {},
   "cell_type": "markdown",
   "metadata": {},
   "source": [
    "**<span style=\"color:#ffdce0\">D.Com 2023 신입생 파이썬 스터디</span>**\n",
    "\n",
    "**여덟번째 과제**\n",
    "\n",
    "**과제 풀이 방법:**\n",
    "각 문제 아래 위치한 셀에 코드를 작성하고\n",
    "\"Shift\" + \"Enter\" 를 눌러 셀을 실행시켜 조건에 따른 올바른 결과가 나오도록 합니다.\n",
    "\n",
    "**과제 제출 기한:**\n",
    "다음 수업 전까지 \"강민수\"에게 카카오톡으로 과제 제출해주시면 됩니다.\n",
    "\n",
    "**과제 제출 유의사항:**\n",
    "파일 이름을  \"**Assignment9_홍길동**\" 과 같이 뒤에 이름을 붙여 바꿔주신 후 제출해주시면 됩니다.\n"
   ]
  },
  {
   "attachments": {},
   "cell_type": "markdown",
   "metadata": {},
   "source": [
    "**<span style=\"color:#ffdce0\">문제 1번</span>**</br>\n",
    "</br>\n",
    "공백으로 구분되어 입력이 들어올 때 알파벳으로만 구성되어있다면 대문자로 출력하고, 그렇지않으면 넘어가는 코드를 작성하라</br>\n",
    "</br>\n",
    "조건 1. .split()을 이용하여 공백으로 구분된 입력을 리스트 inputStr에 저장한다.</br>\n",
    "</br>\n",
    "조건 2. .isalpha()를 이용하여 입력된 단어가 알파벳으로만 구성되어있으면 .upper()을 이용해 대문자로 변환해 출력한다.</br>\n",
    "</br>\n",
    "입력 형식:</br>\n",
    "Hello1 my naME Is 12 KMS.</br>\n",
    "</br>\n",
    "출력 형식:</br>\n",
    "MY</br>\n",
    "NAME</br>\n",
    "IS</br>\n",
    "</br>"
   ]
  },
  {
   "cell_type": "code",
   "execution_count": 30,
   "metadata": {},
   "outputs": [
    {
     "name": "stdout",
     "output_type": "stream",
     "text": [
      "MY\n",
      "NAME\n",
      "IS\n"
     ]
    }
   ],
   "source": [
    "#문제 1번\n",
    "str1 = \"Hello1 my naME Is 12 KMS.\"\n",
    "a = str1. split()\n",
    "for i in a:\n",
    "    if i. isalpha():\n",
    "        print(i.upper())\n",
    "    else:\n",
    "        continue\n"
   ]
  },
  {
   "cell_type": "markdown",
   "metadata": {},
   "source": [
    "**<span style=\"color:#ffdce0\">문제 2번</span>**</br>\n",
    "</br>\n",
    "행과 열의 길이 행렬을 입력 받아 출력하는 프로그램을 작성하라.</br>\n",
    "</br>\n",
    "조건 1. split 함수를 이용해 n과 m을 입력받는다.</br>\n",
    "</br>\n",
    "입력 형식:</br>\n",
    "3 3</br>\n",
    "1 1 1</br>\n",
    "2 2 2</br>\n",
    "3 3 3</br>\n",
    "</br>\n",
    "출력 형식:</br>\n",
    "1 1 1</br>\n",
    "2 2 2</br>\n",
    "3 3 3</br>\n"
   ]
  },
  {
   "cell_type": "code",
   "execution_count": 3,
   "metadata": {},
   "outputs": [
    {
     "name": "stdout",
     "output_type": "stream",
     "text": [
      "111\n",
      "222\n",
      "333\n"
     ]
    }
   ],
   "source": [
    "#문제 2번\n",
    "a = \"111 222 333\"\n",
    "b = a. split(\" \")\n",
    "for i in b:\n",
    "    print(i)\n",
    "\n"
   ]
  },
  {
   "cell_type": "markdown",
   "metadata": {},
   "source": [
    "**<span style=\"color:#ffdce0\">문제 3번</span>**</br>\n",
    "</br>\n",
    "단어 inputStr과 키 key가 공백으로 구분되어 입력될 때 inputStr에서 key의 갯수를 출력하라</br>\n",
    "</br>\n",
    "조건 1. inputStr과 key가 공백으로 구분되어 입력된다.</br>\n",
    "</br>\n",
    "조건 2. print의 포맷팅을 이용하여 출력한다.(print함수는 1번만 호출, 문자열의 연산 이용 금지)</br>\n",
    "</br>\n",
    "조건 3. .count()를 이용하여 inputStr 내의 key의 갯수를 출력한다.</br>\n",
    "</br>\n",
    "입력 형식:</br>\n",
    "adsfasdfadf ad</br>\n",
    "</br>\n",
    "출력 형식:</br>\n",
    "Count of key 'ad' in inputStr 'adsfasdfadf' is 2!</br>\n",
    "</br>"
   ]
  },
  {
   "cell_type": "code",
   "execution_count": 8,
   "metadata": {},
   "outputs": [
    {
     "name": "stdout",
     "output_type": "stream",
     "text": [
      "Count of key 'ad' in inputStr 'adsfasdfadf' is 2!\n"
     ]
    }
   ],
   "source": [
    "#문제 3번\n",
    "inputstr_key = 'adsfasdfadf ad'\n",
    "a = inputstr_key.split(\" \")\n",
    "b = a[0]. count(\"ad\")\n",
    "print(f\"Count of key 'ad' in inputStr 'adsfasdfadf' is {b}!\")"
   ]
  },
  {
   "cell_type": "markdown",
   "metadata": {},
   "source": [
    "**<span style=\"color:#ffdce0\">문제 4번</span>**</br>\n",
    "</br>\n",
    "숫자 n을 입력받아 1 ~ n 까지 중복이 없는 랜덤 리스트를 출력하라.</br>\n",
    "</br>\n",
    "조건 1. random 모듈을 import 한다.</br>\n",
    "</br>\n",
    "조건 2. 변수 n을 선언해 입력을 받는다.</br>\n",
    "</br>\n",
    "조건 3. rand_num이라는 리스트를 선언한다.</br>\n",
    "</br>\n",
    "조건 4. random.randrange() 함수를 이용해 랜덤 정수를 생성한다.</br>\n",
    "</br>\n",
    "입력 형식:</br>\n",
    "10</br>\n",
    "</br>\n",
    "출력 형식:</br>\n",
    "[7, 5, 10, 1, 9, 3, 6, 8, 2, 4]</br>\n"
   ]
  },
  {
   "cell_type": "code",
   "execution_count": 2,
   "metadata": {},
   "outputs": [
    {
     "name": "stdout",
     "output_type": "stream",
     "text": [
      "[10, 7, 2, 1, 5, 3, 6]\n"
     ]
    }
   ],
   "source": [
    "#문제 4번\n",
    "i = int(input())\n",
    "\n",
    "rand_num = []\n",
    "for a in range(1,i+1):\n",
    "    if len(rand_num) != i:\n",
    "        from random import*\n",
    "        n = randrange(1,i+1)\n",
    "        if n in rand_num:\n",
    "            continue\n",
    "        else :\n",
    "            rand_num. append(n)\n",
    "    elif len(rand_num) == i:\n",
    "        break\n",
    "print(rand_num)"
   ]
  },
  {
   "cell_type": "markdown",
   "metadata": {},
   "source": [
    "**<span style=\"color:#ffdce0\">문제 5번</span>**</br>\n",
    "</br>\n",
    "무작위로 만들어진 정답 answer의 값을 맞추는 코드를 작성하라</br>\n",
    "</br>\n",
    "조건 1. 1에서 100 사이의 정수 값을 가지는 변수 answer를 .randrange()를 이용하여 선언한다.(import random)</br>\n",
    "</br>\n",
    "조건 2. while문을 이용하여 무한 반복문을 작성하여 사용자로 부터 정수 inputNum을 입력받고, inputNum과 answer의 값이 같을 때까지 반복한다.</br>\n",
    "</br>\n",
    "조건 3. inputNum이 answer보다 작거나, 크거나, 같으면 아래의 출력 형식과 같이 출력한다.</br>\n",
    "</br>\n",
    "조건 4. inputNum이 1~100사이의 값이 아닐 때까지 아래의 출력 형식과 같이 출력한다.</br>\n",
    "</br>\n",
    "조건 5. 조건 3과 조건 4의 문장을 출력할 때 문자열의 포맷팅을 이용하여 출력한다.</br>\n",
    "</br>\n",
    "입력 형식:</br>\n",
    "1000</br>\n",
    "-1231</br>\n",
    "50</br>\n",
    "75</br>\n",
    "65</br>\n",
    "57</br>\n",
    "53</br>\n",
    "</br>\n",
    "출력 형식:</br>\n",
    "Your number 1000 is out of range!</br>\n",
    "Your number -123 is out of range!</br>\n",
    "Your number 50 is lower than Answer!</br>\n",
    "Your number 75 is bigger than Answer!</br>\n",
    "Your number 65 is bigger than Answer!</br>\n",
    "Your number 57 is bigger than Answer!</br>\n",
    "Your number 53 is Answer!</br>\n",
    "</br>"
   ]
  },
  {
   "cell_type": "code",
   "execution_count": 51,
   "metadata": {},
   "outputs": [
    {
     "name": "stdout",
     "output_type": "stream",
     "text": [
      "Your number 1000 is out of range!\n",
      "Your number -123 is out of range!\n",
      "Your number 50 is lower than answer!\n",
      "Your number 25 is lower than answer!\n",
      "Your number 12 is lower than answer!\n",
      "Your number 6 is lower than answer!\n",
      "Your number 3 is lower than answer!\n",
      "Your number 2 is lower than answer!\n",
      "Your number 1 is lower than answer!\n",
      "Your number 0 is out of range!\n",
      "Your number 75 is lower than answer!\n",
      "Your number 90 is larger than answer!\n",
      "Your number 83 is answer!\n"
     ]
    }
   ],
   "source": [
    "#문제 5번\n",
    "from random import*\n",
    "answer = randrange(1,101)\n",
    "\n",
    "n = 0\n",
    "while n != answer :\n",
    "    n = int(input())\n",
    "\n",
    "    if n > 100 or n <1:\n",
    "        print(f\"Your number {n} is out of range!\")\n",
    "    elif n < answer:\n",
    "        print(f\"Your number {n} is lower than answer!\")\n",
    "    elif n > answer :\n",
    "        print(f\"Your number {n} is larger than answer!\")\n",
    "    else:\n",
    "        print(f\"Your number {n} is answer!\")\n",
    "        "
   ]
  },
  {
   "cell_type": "markdown",
   "metadata": {},
   "source": [
    "**<span style=\"color:#ffdce0\">문제 6번</span>**</br>\n",
    "</br>\n",
    "시저 암호를 만들어보자.</br>\n",
    "</br>\n",
    "조건 1. 문자열을 입력받는다.</br>\n",
    "</br>\n",
    "조건 2. 문자열을 입력 받는 encrypt 함수를 작성한다.</br>\n",
    "</br>\n",
    "조건 3. 시저 암호는 각 문자에 +5를 한 문자로 변환한다.</br>\n",
    "</br>\n",
    "조건 4. 만약 문자에 +5한 값이 Z를 넘어 간다면 A부터 시작하여 더해준다.</br>\n",
    "</br>\n",
    "조건 5. 문자를 아스키코드로 바꾸는 함수 ord()</br>\n",
    "</br>\n",
    "조건 6. 아스키코드를 문자로 바꾸는 함수 chr()</br>\n",
    "</br>\n",
    "조건 7. 알파벳 대소문자는 시저 암호로 암호화하고, 특수문자일 경우는 암호화 하지 않는다.</br>\n",
    "</br>\n",
    "입력 형식:</br>\n",
    "Python!</br>\n",
    "</br>\n",
    "출력 형식:</br>\n",
    "Udymts!</br>\n",
    "</br>\n"
   ]
  },
  {
   "cell_type": "code",
   "execution_count": 2,
   "metadata": {},
   "outputs": [
    {
     "name": "stdout",
     "output_type": "stream",
     "text": [
      "applexyjaj otgx\n"
     ]
    }
   ],
   "source": [
    "#문제 6번\n",
    "#a = 97\n",
    "#z = 122\n",
    "#A = 65\n",
    "#Z = 90\n",
    "str = input()\n",
    "def encrypt(str):\n",
    "    m = \"\"\n",
    "    for i in str:\n",
    "        n = ord(i)\n",
    "        if (n >= 97 and n <= 122) or (n >= 65 and n <= 90):\n",
    "            n +=5\n",
    "            if (n > 90 and n < 97) or (n > 122):\n",
    "                n -= 26\n",
    "        m += chr(n)\n",
    "    return m\n",
    "\n",
    "print(encrypt(str))\n"
   ]
  }
 ],
 "metadata": {
  "interpreter": {
   "hash": "6e11f4c1efbbb7e108f41e786f571b27c3c9811501888d7e8c289e34fb7fbc6f"
  },
  "kernelspec": {
   "display_name": "Python 3.10.2 64-bit",
   "language": "python",
   "name": "python3"
  },
  "language_info": {
   "codemirror_mode": {
    "name": "ipython",
    "version": 3
   },
   "file_extension": ".py",
   "mimetype": "text/x-python",
   "name": "python",
   "nbconvert_exporter": "python",
   "pygments_lexer": "ipython3",
   "version": "3.11.2"
  },
  "orig_nbformat": 4
 },
 "nbformat": 4,
 "nbformat_minor": 2
}
