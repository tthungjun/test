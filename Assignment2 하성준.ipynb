{
 "cells": [
  {
   "attachments": {},
   "cell_type": "markdown",
   "metadata": {},
   "source": [
    "**<span style=\"color:#ffdce0\">D.Com 2023 신입생 파이썬 스터디</span>**\n",
    "\n",
    "**첫번째 과제**\n",
    "\n",
    "**과제 풀이 방법:**\n",
    "각 문제 아래 위치한 셀에 코드를 작성하고\n",
    "\"Shift\" + \"Enter\" 를 눌러 셀을 실행시켜 조건에 따른 올바른 결과가 나오도록 합니다.\n",
    "\n",
    "**과제 제출 기한:**\n",
    "다음 수업 전까지 \"강민수\"에게 카카오톡으로 과제 제출해주시면 됩니다.\n",
    "\n",
    "**과제 제출 유의사항:**\n",
    "파일 이름을 <u>**\"Assignment2_홍길동\"**</u> 과 같이 뒤에 이름을 붙여 바꿔주신 후 제출해주시면 됩니다. \n"
   ]
  },
  {
   "cell_type": "markdown",
   "metadata": {},
   "source": [
    "======================================================================================"
   ]
  },
  {
   "cell_type": "markdown",
   "metadata": {},
   "source": [
    "**<span style=\"color:#ffdce0\">문제 1번</span>**\n",
    "\n",
    "정수형 변수 두개(a, b)를 선언하여 \n",
    "c를 a의 b제곱의 값을 가지는 정수형 변수로 선언하고\n",
    "c를 7로 나눈 몫을 출력하라\n",
    "\n",
    "입력 예시:\n",
    "\n",
    "(a=3, b= 7)\n",
    "\n",
    "출력 예시:\n",
    "\n",
    "312"
   ]
  },
  {
   "cell_type": "markdown",
   "metadata": {},
   "source": [
    "======================================================================================"
   ]
  },
  {
   "cell_type": "code",
   "execution_count": 2,
   "metadata": {},
   "outputs": [
    {
     "name": "stdout",
     "output_type": "stream",
     "text": [
      "3\n"
     ]
    }
   ],
   "source": [
    "a = int(input())\n",
    "b = int(input())\n",
    "c = a**b\n",
    "print(c//7)"
   ]
  },
  {
   "cell_type": "markdown",
   "metadata": {},
   "source": [
    "**<span style=\"color:#ffdce0\">문제 2번</span>**\n",
    "\n",
    "실수형 변수 a를 선언하고,\n",
    "복합 대입 연산자를 이용해 a에 4를 곱한다.</br>\n",
    "위의 과정을 통해 나온 a의 값을 출력하고, \n",
    "정수형 변수 b를 선언하여\n",
    "복합 대입 연산자를 이용해 a에서 b를 나눈 이후\n",
    "a의 값을 출력한다.\n",
    "\n",
    "입력예시:\n",
    "\n",
    "(a = 2.5, b= 5)\n",
    "\n",
    "출력예시:\n",
    "\n",
    "10.0\n",
    "2.0"
   ]
  },
  {
   "cell_type": "markdown",
   "metadata": {},
   "source": [
    "======================================================================================"
   ]
  },
  {
   "cell_type": "code",
   "execution_count": 3,
   "metadata": {},
   "outputs": [
    {
     "name": "stdout",
     "output_type": "stream",
     "text": [
      "12\n",
      "3.0\n"
     ]
    }
   ],
   "source": [
    "a = int(input())\n",
    "a *= 4\n",
    "print(a)\n",
    "b = int(input())\n",
    "a /= b\n",
    "print(a)"
   ]
  },
  {
   "cell_type": "markdown",
   "metadata": {},
   "source": [
    "**<span style=\"color:#ffdce0\">문제 3번</span>**\n",
    "\n",
    "문자형 변수 a와 b를 선언하고 \n",
    "a와 b를 순서대로 출력하고\n",
    "다음 줄에서 b와 a 순으로 출력한다.\n",
    "\n",
    "입력예시:\n",
    "\n",
    "(a = \"Hello\", b = \"Python\")\n",
    "\n",
    "출력예시:\n",
    "\n",
    "Hello Python\n",
    "Python Hello"
   ]
  },
  {
   "cell_type": "markdown",
   "metadata": {},
   "source": [
    "======================================================================================"
   ]
  },
  {
   "cell_type": "code",
   "execution_count": 6,
   "metadata": {},
   "outputs": [
    {
     "name": "stdout",
     "output_type": "stream",
     "text": [
      " spider  man no way home\n",
      " no way home spider  man\n"
     ]
    }
   ],
   "source": [
    "a = \" spider  man\"\n",
    "b = \" no way home\"\n",
    "print(a+b)\n",
    "print(b+a)"
   ]
  },
  {
   "cell_type": "markdown",
   "metadata": {},
   "source": [
    "**<span style=\"color:#ffdce0\">문제 4번</span>**\n",
    "\n",
    "다음 중 변수 이름으로 옳지 않은 것을 고르시오.\n",
    "\n",
    "1) num\n",
    "2) _num\n",
    "3) num_\n",
    "4) 1num\n",
    "5) num1\n",
    "\n"
   ]
  },
  {
   "cell_type": "markdown",
   "metadata": {},
   "source": [
    "======================================================================================"
   ]
  },
  {
   "cell_type": "code",
   "execution_count": null,
   "metadata": {},
   "outputs": [],
   "source": [
    "print(4)"
   ]
  },
  {
   "cell_type": "markdown",
   "metadata": {},
   "source": [
    "**<span style=\"color:#ffdce0\">문제 5번</span>**\n",
    "\n",
    "섭씨 온도를 화씨 온도로 변환한 값을 출력하시오.\n",
    "=> 화씨 = 섭씨 * 1.8 + 32\n",
    "\n",
    "입력예시:\n",
    "100\n",
    "\n",
    "출력예시:\n",
    "212"
   ]
  },
  {
   "cell_type": "markdown",
   "metadata": {},
   "source": [
    "======================================================================================"
   ]
  },
  {
   "cell_type": "code",
   "execution_count": 7,
   "metadata": {},
   "outputs": [
    {
     "name": "stdout",
     "output_type": "stream",
     "text": [
      "57\n",
      "134.60000000000002\n"
     ]
    }
   ],
   "source": [
    "from random import*\n",
    "a = int(random()*101) + 1\n",
    "print(a)\n",
    "b = a*1.8 + 32\n",
    "print(b)"
   ]
  }
 ],
 "metadata": {
  "kernelspec": {
   "display_name": "base",
   "language": "python",
   "name": "python3"
  },
  "language_info": {
   "codemirror_mode": {
    "name": "ipython",
    "version": 3
   },
   "file_extension": ".py",
   "mimetype": "text/x-python",
   "name": "python",
   "nbconvert_exporter": "python",
   "pygments_lexer": "ipython3",
   "version": "3.11.2"
  },
  "orig_nbformat": 4,
  "vscode": {
   "interpreter": {
    "hash": "6d0533e67db48baa59d91fe1047d48c423c6c160898bfe6dda554b85cd00ec59"
   }
  }
 },
 "nbformat": 4,
 "nbformat_minor": 2
}
