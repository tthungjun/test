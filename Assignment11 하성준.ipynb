{
 "cells": [
  {
   "attachments": {},
   "cell_type": "markdown",
   "metadata": {},
   "source": [
    "**<span style=\"color:#ffdce0\">D.Com 2023 신입생 파이썬 스터디</span>**\n",
    "\n",
    "**열번째 과제**\n",
    "\n",
    "**과제 풀이 방법:**\n",
    "각 문제 아래 위치한 셀에 코드를 작성하고\n",
    "\"Shift\" + \"Enter\" 를 눌러 셀을 실행시켜 조건에 따른 올바른 결과가 나오도록 합니다.\n",
    "\n",
    "**과제 제출 기한:**\n",
    "다음 수업 전까지 \"강민수\"에게 카카오톡으로 과제 제출해주시면 됩니다.\n",
    "\n",
    "**과제 제출 유의사항:**\n",
    "파일 이름을  \"**Assignment11_홍길동**\" 과 같이 뒤에 이름을 붙여 바꿔주신 후 제출해주시면 됩니다.\n"
   ]
  },
  {
   "attachments": {},
   "cell_type": "markdown",
   "metadata": {},
   "source": [
    "**<span style=\"color:#ffdce0\">문제 1번</span>**</br>\n",
    "</br>\n",
    "학생 정보를 저장하는 프로그램의 클래스를 구현해 보자.</br>\n",
    "</br>\n",
    "조건 1. 아래 코드에서 class Student 부분만 구현한다.</br>\n",
    "</br>\n",
    "조건 2. 클래스 내에서 초기화/선언(__ init __), 학생 정보 출력(printStudent), 학생 수 출력(printStudentCount)의 기능을 구현한다.</br>\n",
    "</br>\n",
    "조건 3. Student 클래스는 이름(name), 학번(id), 학과(department)의 정보를 가지고 전체 학생 수를 나타내는 studentcount의 변수를 가진다.</br>\n",
    "</br>\n",
    "입력 형식:</br>\n",
    "</br>\n",
    "출력 형식:</br>\n",
    "홍길동의 정보를 등록합니다.</br>\n",
    "</br>\n",
    "이름(name): 홍길동</br>\n",
    "학번(id): 2021111111\n",
    "학과(department): 컴퓨터공학과</br>\n",
    "</br>\n",
    "등록된 학생 수(studentcount): 1</br>\n",
    "</br>\n",
    "김철수의 정보를 등록합니다.</br>\n",
    "</br>\n",
    "이름(name): 김철수</br>\n",
    "학번(id): 2022222222</br>\n",
    "학과(department): 인공지능학과</br>\n",
    "</br>\n",
    "등록된 학생 수(studentcount): 2</br>\n",
    "</br>"
   ]
  },
  {
   "cell_type": "code",
   "execution_count": 19,
   "metadata": {},
   "outputs": [
    {
     "name": "stdout",
     "output_type": "stream",
     "text": [
      "홍길동의 정보를 등록합니다\n",
      " 이름(name): 홍길동\n",
      " 학번(id): 2021111111\n",
      " 학과(department): 컴퓨터공학과\n",
      "1\n",
      "김철수의 정보를 등록합니다\n",
      " 이름(name): 김철수\n",
      " 학번(id): 2022222222\n",
      " 학과(department): 인공지능학과\n",
      "2\n"
     ]
    }
   ],
   "source": [
    "#문제 1번\n",
    "\n",
    "class Student:\n",
    "    def __init__ (self, name, id, department):\n",
    "        self. name = name\n",
    "        self. id = id\n",
    "        self. department = department\n",
    "\n",
    "    def printStudent(self):\n",
    "        return \"{0}의 정보를 등록합니다\\n 이름(name): {1}\\n 학번(id): {2}\\n 학과(department): {3}\". format(self. name, self. name, self. id, self. department)\n",
    "\n",
    "    def printStudentCount(self, other):\n",
    "        if self. name != other. name:\n",
    "            return 2\n",
    "        else:\n",
    "            return 1\n",
    "\n",
    "A = Student(\"홍길동\", 2021111111, \"컴퓨터공학과\")\n",
    "\n",
    "print(A.printStudent())\n",
    "\n",
    "print(Student.printStudentCount(A, A))\n",
    "\n",
    "B = Student(\"김철수\", 2022222222, \"인공지능학과\")\n",
    "\n",
    "print(B.printStudent())\n",
    "\n",
    "print(Student.printStudentCount(A,B))\n"
   ]
  },
  {
   "attachments": {},
   "cell_type": "markdown",
   "metadata": {},
   "source": [
    "**<span style=\"color:#ffdce0\">문제 2번</span>**</br>\n",
    "</br>\n",
    "calculator(계산기)클래스를 만들어서 덧셈, 뺄셈, 곱셈, 나눗셈 연산이 되도록 구현하라.</br>\n",
    "input으로 두 값을 받고 calculator 클래스를 이용해 덧셈, 뺄셈, 곱셈, 나눗셈 연산 결과를 출력하라. </br>\n",
    "</br>\n",
    "(클래스를 구성코드 변경 가능)</br>\n",
    "</br>\n",
    "조건1. __init__으로 2개의 정수 파라미터를 받고 내부 변수에 저장한다.</br>\n",
    "</br>\n",
    "조건2. 내부 변수를 이용하여 add, sub, mul, div 메서드를 구현하라.</br>\n",
    "</br>\n",
    "입력 형식:</br>\n",
    "3 4</br>\n",
    "</br>\n",
    "출력 형식:</br>\n",
    "7</br>\n",
    "-1</br>\n",
    "12</br>\n",
    "0.75</br>"
   ]
  },
  {
   "cell_type": "code",
   "execution_count": 12,
   "metadata": {},
   "outputs": [
    {
     "name": "stdout",
     "output_type": "stream",
     "text": [
      "7\n",
      "-1\n",
      "12\n",
      "0.75\n"
     ]
    }
   ],
   "source": [
    "#문제 2번\n",
    "\n",
    "class calculator:\n",
    "    def __init__(self, m, n):\n",
    "        self. m = m\n",
    "        self. n = n\n",
    "        pass\n",
    "\n",
    "    def add(self):\n",
    "        return self. m + self. n\n",
    "        pass\n",
    "\n",
    "    def sub(self):\n",
    "        return self. m - self. n\n",
    "        pass\n",
    "\n",
    "    def mul(self):\n",
    "        return self. m * self. n\n",
    "        pass\n",
    "\n",
    "    def div(self):\n",
    "        return self. m / self. n\n",
    "        pass\n",
    "\n",
    "\n",
    "n = input()\n",
    "m = input()\n",
    "c = calculator(int(n), int(m))\n",
    "print(c.add())\n",
    "print(c.sub())\n",
    "print(c.mul())\n",
    "print(c.div())"
   ]
  }
 ],
 "metadata": {
  "interpreter": {
   "hash": "67c098b56015f98957ba5868aed1ddc6292d97c219ecaa8bd640e07c14b57cae"
  },
  "kernelspec": {
   "display_name": "Python 3.10.2 64-bit",
   "language": "python",
   "name": "python3"
  },
  "language_info": {
   "codemirror_mode": {
    "name": "ipython",
    "version": 3
   },
   "file_extension": ".py",
   "mimetype": "text/x-python",
   "name": "python",
   "nbconvert_exporter": "python",
   "pygments_lexer": "ipython3",
   "version": "3.11.2"
  },
  "orig_nbformat": 4
 },
 "nbformat": 4,
 "nbformat_minor": 2
}
