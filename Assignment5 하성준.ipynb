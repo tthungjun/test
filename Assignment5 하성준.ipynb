{
 "cells": [
  {
   "attachments": {},
   "cell_type": "markdown",
   "metadata": {},
   "source": [
    "**<span style=\"color:#ffdce0\">D.Com 2023 신입생 파이썬 스터디</span>**\n",
    "\n",
    "**네번째 과제**\n",
    "\n",
    "**과제 풀이 방법:**\n",
    "각 문제 아래 위치한 셀에 코드를 작성하고\n",
    "\"Shift\" + \"Enter\" 를 눌러 셀을 실행시켜 조건에 따른 올바른 결과가 나오도록 합니다.\n",
    "\n",
    "**과제 제출 기한:**\n",
    "다음 수업 전까지 \"강민수\"에게 카카오톡으로 과제 제출해주시면 됩니다.\n",
    "\n",
    "**과제 제출 유의사항:**\n",
    "파일 이름을  \"**Assignment4_홍길동**\" 과 같이 뒤에 이름을 붙여 바꿔주신 후 제출해주시면 됩니다.\n"
   ]
  },
  {
   "cell_type": "markdown",
   "metadata": {},
   "source": [
    "**<span style=\"color:#ffdce0\">문제 1번</span>**</br>\n",
    "</br>\n",
    "in 연산자를 이용하여 입력받은 문장에서 \"i\"/\"I\"의 여부를 출력하라</br>\n",
    "</br>\n",
    "조건 1. 영어로 된 문장이 2개 입력된다.</br>\n",
    "</br>\n",
    "조건 2. \"i\"/\"I\"가 1개 이상있으면 \"i\"/\"I\"가 존재합니다.를 출력하고, 없다면 \"i\"/\"I\"가 존재하지 않습니다.를 출력한다.</br>\n",
    "</br>\n",
    "입력 형식:</br>\n",
    "Hello D.COM!</br>\n",
    "I Like Dinosaur!!!</br>\n",
    "</br>\n",
    "출력 형식:</br>\n",
    "\"i\"/\"I\"가 존재하지 않습니다.</br>\n",
    "\"i\"/\"I\"가 존재합니다.</br>\n",
    "</br>\n"
   ]
  },
  {
   "cell_type": "code",
   "execution_count": 5,
   "metadata": {},
   "outputs": [
    {
     "name": "stdout",
     "output_type": "stream",
     "text": [
      "Hello D.COM!\n",
      "\"i\"/\"I\"가 존재하지 않습니다.\n",
      "I Like Dinosour!!!\n",
      "\"i\"/\"I\"가 존재합니다.\n"
     ]
    }
   ],
   "source": [
    "a = input()\n",
    "b = input()\n",
    "\n",
    "print(a)\n",
    "if \"i\" in a and \"I\" in a:\n",
    "    print('\"i\"/\"I\"가 존재합니다.')\n",
    "else:\n",
    "    print('\"i\"/\"I\"가 존재하지 않습니다.')\n",
    "\n",
    "print(b)\n",
    "if \"i\" in b and \"I\" in b:\n",
    "    print('\"i\"/\"I\"가 존재합니다.')\n",
    "else:\n",
    "    print('\"i\"/\"I\"가 존재하지 않습니다.')"
   ]
  },
  {
   "cell_type": "markdown",
   "metadata": {},
   "source": [
    "**<span style=\"color:#ffdce0\">문제 2번</span>**</br>\n",
    "</br>\n",
    "4개의 윷 상태가 입력될 때 도, 개, 걸, 윷, 모, 빽도를 판단하여 출력하는 프로그램을 만들어 보자.</br>\n",
    "</br>\n",
    "조건 1. 4개의 윷의 상태가 0(뒤집어지지 않음), 1(뒤집어짐)으로 구분되어 각각 입력된다.</br>\n",
    "</br>\n",
    "조건 2. 1개가 뒤집어지면 도, 2개가 뒤집어지면 개, 3개가 뒤집어지면 걸, 4개가 뒤집어지면 윷, 하나도 뒤집어지지 않으면 모 를 출력한다.</br>\n",
    "</br>\n",
    "조건 3. 윷이 한개가 뒤집어져 있을때 첫번째 윷이 뒤집어져 있으면 도가 아닌 빽도를 출력한다.(1번째 윷이 빽도를 판단하는 윷)</br>\n",
    "</br>\n",
    "입력 형식:</br>\n",
    "0</br>\n",
    "1</br>\n",
    "0</br>\n",
    "1</br>\n",
    "</br>\n",
    "출력 형식:</br>\n",
    "개</br>\n"
   ]
  },
  {
   "cell_type": "code",
   "execution_count": 11,
   "metadata": {},
   "outputs": [
    {
     "name": "stdout",
     "output_type": "stream",
     "text": [
      "도\n"
     ]
    }
   ],
   "source": [
    "#문제 2번\n",
    "\n",
    "a = int(input())\n",
    "b = int(input())\n",
    "c = int(input())\n",
    "d = int(input())\n",
    "print(a)\n",
    "print(b)\n",
    "print(c)\n",
    "print(d)\n",
    "\n",
    "if a + b + c + d == 0:\n",
    "    print(\"모\")\n",
    "elif a + b + c + d == 1 and a != 1:\n",
    "    print(\"도\")\n",
    "elif a + b + c + d == 1 and a == 1:\n",
    "    print(\"빽도\")\n",
    "elif a + b + c + d == 2:\n",
    "    print('개')\n",
    "elif a + b + c + d == 3:\n",
    "    print(\"걸\")\n",
    "elif a + b + c + d == 4:\n",
    "    print(\"윷\")\n"
   ]
  },
  {
   "cell_type": "markdown",
   "metadata": {},
   "source": [
    "**<span style=\"color:#ffdce0\">문제 3번</span>**</br>\n",
    "</br>\n",
    "연도가 입력될 때 윤년 여부를 판단하는 프로그램을 만들어 보자.</br>\n",
    "</br>\n",
    "조건 1. 연도가 4의 배수이면서 100의 배수가 아닐때 윤년이다.</br>\n",
    "</br>\n",
    "조건 2. 연도가 400의 배수이면 윤년이다.</br>\n",
    "</br>\n",
    "조건 3. 두 조건 중 하나라도 맞다면 윤년이다.(ex) 400의 배수이고 100의 배수이면 조건 2를 만족하므로 윤년)</br>\n",
    "</br>\n",
    "입력 형식:</br>\n",
    "2200</br>\n",
    "</br>\n",
    "출력 형식:</br>\n",
    "윤년이 아닙니다.</br>\n"
   ]
  },
  {
   "cell_type": "code",
   "execution_count": 4,
   "metadata": {},
   "outputs": [
    {
     "name": "stdout",
     "output_type": "stream",
     "text": [
      "윤년입니다\n"
     ]
    }
   ],
   "source": [
    "#문제 3번\n",
    "a = int(input())\n",
    "print(a)\n",
    "\n",
    "if a % 4 == 0 and a % 100 !=0 :\n",
    "    print(\"윤년입니다\")\n",
    "elif a %400 ==0 :\n",
    "    print(\"윤년입니다\")\n",
    "else :\n",
    "    print(\"윤년이 아닙니다\")\n"
   ]
  },
  {
   "cell_type": "markdown",
   "metadata": {},
   "source": [
    "**<span style=\"color:#ffdce0\">문제 4번</span>**</br>\n",
    "</br>\n",
    "두 수를 입력을 받고 연산자를 입력받아 연산 결과값을 출력하는 계산기 프로그램을 만들어 보자.</br>\n",
    "</br>\n",
    "조건 1. 정수 A, B를 차례로 입력받는다.</br>\n",
    "</br>\n",
    "조건 2. +, -, /, * 4가지 연산자 기호를 입력받고 각각 A에서 B를 덧셈, 뺄셈, 나눗셈, 곱셈 연산을 한 후 결과값을 출력한다.</br>\n",
    "</br>\n",
    "조건 3. 나눗셈 기호를 받을 때 B가 0이라면 \"에러입니다.\"를 출력한다.</br>\n",
    "</br>\n",
    "입력 형식:</br>\n",
    "34</br>\n",
    "7</br>\n",
    "-</br>\n",
    "</br>\n",
    "출력 형식:</br>\n",
    "27</br>\n"
   ]
  },
  {
   "cell_type": "code",
   "execution_count": 4,
   "metadata": {},
   "outputs": [
    {
     "name": "stdout",
     "output_type": "stream",
     "text": [
      "195\n"
     ]
    }
   ],
   "source": [
    "#문제 4번\n",
    "A = int(input())\n",
    "B = int(input())\n",
    "C = input()\n",
    "print(A)\n",
    "print(B)\n",
    "print(C)\n",
    "\n",
    "if C == \"+\":\n",
    "    print(A + B)\n",
    "elif C == \"-\":\n",
    "    print(A - B)\n",
    "elif C == \"/\" and B != 0:\n",
    "    print(A / B)\n",
    "elif C == \"/\" and B == 0:\n",
    "    print(\"에러입니다.\")\n",
    "elif C == \"*\":\n",
    "    print(A * B)\n"
   ]
  },
  {
   "attachments": {},
   "cell_type": "markdown",
   "metadata": {},
   "source": [
    "**<span style=\"color:#ffdce0\">문제 5번</span>**</br>\n",
    "</br>\n",
    "3개의 수를 인자로 받아 세 수의 중간값을 반환하는 함수를 만들어 </br>\n",
    "입력 받은 3개의 수의 중간값을 출력하시오.</br>\n",
    "</br>\n",
    "입력 형식:</br>\n",
    "5</br>\n",
    "1</br>\n",
    "3</br>\n",
    "</br>\n",
    "출력 형식:</br>\n",
    "3</br>"
   ]
  },
  {
   "cell_type": "code",
   "execution_count": 6,
   "metadata": {},
   "outputs": [
    {
     "name": "stdout",
     "output_type": "stream",
     "text": [
      "1\n",
      "3\n",
      "5\n",
      "3.0\n"
     ]
    }
   ],
   "source": [
    "#문제 5번\n",
    "a = int(input())\n",
    "b = int(input())\n",
    "c = int(input())\n",
    "print(a)\n",
    "print(b)\n",
    "print(c)\n",
    "\n",
    "def func(a, b, c):\n",
    "    return (a+b+c)/3\n",
    "\n",
    "print(func(a, b, c))"
   ]
  }
 ],
 "metadata": {
  "interpreter": {
   "hash": "6e11f4c1efbbb7e108f41e786f571b27c3c9811501888d7e8c289e34fb7fbc6f"
  },
  "kernelspec": {
   "display_name": "Python 3.10.2 64-bit",
   "language": "python",
   "name": "python3"
  },
  "language_info": {
   "codemirror_mode": {
    "name": "ipython",
    "version": 3
   },
   "file_extension": ".py",
   "mimetype": "text/x-python",
   "name": "python",
   "nbconvert_exporter": "python",
   "pygments_lexer": "ipython3",
   "version": "3.11.2"
  },
  "orig_nbformat": 4
 },
 "nbformat": 4,
 "nbformat_minor": 2
}
