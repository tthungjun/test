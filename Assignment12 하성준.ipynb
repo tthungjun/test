{
 "cells": [
  {
   "attachments": {},
   "cell_type": "markdown",
   "metadata": {},
   "source": [
    "**<span style=\"color:#ffdce0\">D.Com 2023 신입생 파이썬 스터디</span>**\n",
    "\n",
    "**열한번째 과제**\n",
    "\n",
    "**과제 풀이 방법:**\n",
    "각 문제 아래 위치한 셀에 코드를 작성하고\n",
    "\"Shift\" + \"Enter\" 를 눌러 셀을 실행시켜 조건에 따른 올바른 결과가 나오도록 합니다.\n",
    "\n",
    "**과제 제출 기한:**\n",
    "다음 수업 전까지 \"강민수\"에게 카카오톡으로 과제 제출해주시면 됩니다.\n",
    "\n",
    "**과제 제출 유의사항:**\n",
    "파일 이름을  \"**Assignment11_홍길동**\" 과 같이 뒤에 이름을 붙여 바꿔주신 후 제출해주시면 됩니다.\n"
   ]
  },
  {
   "attachments": {},
   "cell_type": "markdown",
   "metadata": {},
   "source": [
    "**<span style=\"color:#ffdce0\">문제 1번</span>**</br>\n",
    "</br>\n",
    "Image(허수)클래스를 만들어서 덧셈, 뺄셈 연산이 되도록 구현하라.</br>\n",
    "단, 연산자 오버로딩을 이용해 덧셈, 뺄셈 연산이 가능하도록 만들고</br>\n",
    "print 함수를 했을때 a + bi 형태로 출력할 수 있도록 구현하라.</br>\n",
    "</br>\n",
    "(클래스 구성코드 변경 가능)</br>\n",
    "</br>\n",
    "출력 형식:</br>\n",
    "1 + 2i</br>\n",
    "3 + 4i</br>\n",
    "4 + 6i</br>\n",
    "2 + 2i</br>"
   ]
  },
  {
   "cell_type": "code",
   "execution_count": 5,
   "metadata": {},
   "outputs": [
    {
     "name": "stdout",
     "output_type": "stream",
     "text": [
      "(1+2j)\n",
      "(3+4j)\n",
      "(4+6j)\n",
      "(2+2j)\n"
     ]
    }
   ],
   "source": [
    "#문제 1번\n",
    "class Image:\n",
    "    def __init__(self, real, image):\n",
    "        self. num = complex(real, image)\n",
    "\n",
    "    def __eq__(self,other):\n",
    "        if self. num == other. num:\n",
    "            return True\n",
    "        else:\n",
    "            return False\n",
    "    \n",
    "    def __add__(self, other):\n",
    "        return self. num + other. num\n",
    "\n",
    "    def __sub__(self, other):\n",
    "        return self. num - other. num\n",
    "\n",
    "    def __str__(self):\n",
    "        return str(self. num)\n",
    "\n",
    "\n",
    "# 입력 예제\n",
    "a = Image(1, 2)\n",
    "b = Image(3, 4)\n",
    "print(a)\n",
    "print(b)\n",
    "\n",
    "c = a + b\n",
    "d = b - a\n",
    "print(c)\n",
    "print(d)\n"
   ]
  },
  {
   "attachments": {},
   "cell_type": "markdown",
   "metadata": {},
   "source": [
    "**<span style=\"color:#ffdce0\">문제 2번</span>**</br>\n",
    "</br>\n",
    "Prism(각기둥)이라는 length(한변의 길이)와 height를 파라미터로 받는 클래스를 만든다.</br>\n",
    "각기둥 클래스를 상속 받아 Triangle(정삼각형), Square(정사각형)의 클래스를 만든 뒤</br>\n",
    "도형의 와 부피를 반환하는 함수를 오버라이딩해라.</br>\n",
    "</br>\n",
    "출력형식:</br>\n",
    "삼각기둥 밑면의 넓이: ?</br>\n",
    "사각기둥 밑면의 넓이: ?</br>\n",
    "삼각기둥 부피: ?</br>\n",
    "사각기둥 부피: ?</br>"
   ]
  },
  {
   "cell_type": "code",
   "execution_count": 3,
   "metadata": {},
   "outputs": [
    {
     "name": "stdout",
     "output_type": "stream",
     "text": [
      "삼각기둥 밑면의 넓이: 13.856406460551018\n",
      "사각기둥 밑면의 넓이: 16\n",
      "삼각기둥 부피: 41.569219381653056\n",
      "사각기둥 부피: 48\n"
     ]
    }
   ],
   "source": [
    "# 문제 2번\n",
    "class Prism():\n",
    "    def __init__(self, length, height):\n",
    "        self.length = length\n",
    "        self.height = height\n",
    "\n",
    "    def area(self):\n",
    "        return (self.length)*(self.length)\n",
    "\n",
    "    def volume(self):\n",
    "        return (self.length)*(self.length)*(self.height)\n",
    "\n",
    "class Triangle(Prism):\n",
    "    def __init__(self, length, height):\n",
    "        super().__init__(length, height)\n",
    "    def area(self):\n",
    "        return (super().area())*3**(1/2)/2\n",
    "    def volume(self):\n",
    "        return (super().volume())*3**(1/2)/2\n",
    "    \n",
    "class Square(Prism):\n",
    "    def __init__(self, length, height):\n",
    "        super().__init__(length, height)\n",
    "    def area(self):\n",
    "        return super().area()\n",
    "    def volume(self):\n",
    "        return super().volume()\n",
    "\n",
    "\n",
    "# 입력 예제\n",
    "t = Triangle(4, 3)\n",
    "r = Square(4, 3)\n",
    "print(\"삼각기둥 밑면의 넓이: {}\".format(t.area()))\n",
    "print(\"사각기둥 밑면의 넓이: {}\".format(r.area()))\n",
    "print(\"삼각기둥 부피: {}\".format(t.volume()))\n",
    "print(\"사각기둥 부피: {}\".format(r.volume()))\n"
   ]
  },
  {
   "attachments": {},
   "cell_type": "markdown",
   "metadata": {},
   "source": [
    "**<span style=\"color:#ffdce0\">문제 3번</span>**</br>\n",
    "</br>\n",
    "주어진 코드에 맞게 class를 완성하고,</br>\n",
    "isinstance()함수를 이용해 해당 클래스의 인자인지 판별하라.</br>\n",
    "</br>\n",
    "조건 1. FootballPlayer와 BaseballPlayer에서 super()를 이용해 변수를 초기화한다.</br>\n",
    "</br>\n",
    "출력 예시:</br>\n",
    "True</br>\n",
    "False</br>\n",
    "True</br>\n",
    "True</br>\n",
    "</br>"
   ]
  },
  {
   "cell_type": "code",
   "execution_count": 6,
   "metadata": {},
   "outputs": [
    {
     "name": "stdout",
     "output_type": "stream",
     "text": [
      "True\n",
      "False\n",
      "True\n",
      "True\n"
     ]
    }
   ],
   "source": [
    "#문제 3번\n",
    "class Player():\n",
    "    def __init__(self, name, age, backnumber):\n",
    "        self.name = name\n",
    "        self.age = age\n",
    "        self.backnumber = backnumber\n",
    "\n",
    "\n",
    "class FootballPlayer(Player):\n",
    "    def __init__(self, name, age, backnumber, scoringRate):\n",
    "        super().__init__(name, age, backnumber)\n",
    "        self. scoringRate = scoringRate\n",
    "\n",
    "\n",
    "class BaseballPlayer(Player):\n",
    "    def __init__(self, name, age, backnumber, battingAverage):\n",
    "        super().__init__(name, age, backnumber)\n",
    "        self. battingAverage = battingAverage\n",
    "\n",
    "\n",
    "Person = Player(\"홍길동\", 30, 11)\n",
    "Football = FootballPlayer(\"김철수\", 31, 10, 12121)\n",
    "Baseball = BaseballPlayer(\"김민석\", 29, 15, 0.121)\n",
    "\n",
    "\n",
    "print(isinstance(Football, Player))\n",
    "print(isinstance(Person, FootballPlayer))\n",
    "print(isinstance(Baseball, Player))\n",
    "print(isinstance(Football, FootballPlayer))\n"
   ]
  }
 ],
 "metadata": {
  "interpreter": {
   "hash": "67c098b56015f98957ba5868aed1ddc6292d97c219ecaa8bd640e07c14b57cae"
  },
  "kernelspec": {
   "display_name": "Python 3.10.2 64-bit",
   "language": "python",
   "name": "python3"
  },
  "language_info": {
   "codemirror_mode": {
    "name": "ipython",
    "version": 3
   },
   "file_extension": ".py",
   "mimetype": "text/x-python",
   "name": "python",
   "nbconvert_exporter": "python",
   "pygments_lexer": "ipython3",
   "version": "3.11.2"
  },
  "orig_nbformat": 4
 },
 "nbformat": 4,
 "nbformat_minor": 2
}
