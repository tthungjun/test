{
 "cells": [
  {
   "attachments": {},
   "cell_type": "markdown",
   "metadata": {},
   "source": [
    "**<span style=\"color:#ffdce0\">D.Com 2023 신입생 파이썬 스터디</span>**\n",
    "\n",
    "**두번째 과제**\n",
    "\n",
    "**과제 풀이 방법:**\n",
    "각 문제 아래 위치한 셀에 코드를 작성하고\n",
    "\"Shift\" + \"Enter\" 를 눌러 셀을 실행시켜 조건에 따른 올바른 결과가 나오도록 합니다.\n",
    "\n",
    "**과제 제출 기한:**\n",
    "다음 수업 전까지 \"강민수\"에게 카카오톡로 과제 제출해주시면 됩니다.\n",
    "\n",
    "**과제 제출 유의사항:**\n",
    "파일 이름을  \"**Assignment3_홍길동**\" 과 같이 뒤에 이름을 붙여 바꿔주신 후 제출해주시면 됩니다.\n"
   ]
  },
  {
   "cell_type": "markdown",
   "metadata": {},
   "source": [
    "**<span style=\"color:#ffdce0\">문제 1번</span>**\n",
    "\n",
    "input parameter으로는 a와 b를 가지고, 함수 내에서 a와 b를 출력하고,</br>\n",
    "a와 b를 더한 값을 return하는 함수 \"Func\"를 구현하고,</br>\n",
    "구현한 함수를 이용해 4와 6을 함수의 input으로 넣었을 때 return되는 값을 출력하라.\n",
    "\n",
    "\n",
    "출력 예시:</br>\n",
    "4 6</br>\n",
    "10"
   ]
  },
  {
   "cell_type": "code",
   "execution_count": 2,
   "metadata": {},
   "outputs": [
    {
     "name": "stdout",
     "output_type": "stream",
     "text": [
      "4\n",
      "6\n",
      "10\n"
     ]
    }
   ],
   "source": [
    "#문제 1번\n",
    "def Func(a, b) :\n",
    "    sum = a + b\n",
    "    return sum\n",
    "\n",
    "a = int(input())\n",
    "b = int(input())\n",
    "print(a)\n",
    "print(b)\n",
    "print(Func(a, b))"
   ]
  },
  {
   "cell_type": "markdown",
   "metadata": {},
   "source": [
    "**<span style=\"color:#ffdce0\">문제 2번</span>**\n",
    "\n",
    " input parameter으로 아무것도 받지 않고 변수를 \"2023 D.COM\"을 출력하는 함수 print_dcom를 만든다.\n"
   ]
  },
  {
   "cell_type": "code",
   "execution_count": 5,
   "metadata": {},
   "outputs": [
    {
     "name": "stdout",
     "output_type": "stream",
     "text": [
      "2023 D.COM\n"
     ]
    }
   ],
   "source": [
    "#문제 2번\n",
    "\n",
    "def print_dcom() :\n",
    "    return (\"2023 D.COM\")\n",
    "\n",
    "print(print_dcom())\n"
   ]
  },
  {
   "cell_type": "markdown",
   "metadata": {},
   "source": [
    "**<span style=\"color:#ffdce0\">문제 3번</span>**\n",
    "\n",
    "1. input parameter으로 a를 받고, a의 값 만큼 \"\\*\"을 출력하는 함수 printStar를 만든다.(a만큼 \"\\*\"을 출력하는 것은 print(\"\\*\"*a)를 사용한다)\n",
    "2. input parameter으로 a를 받고, a의 값 만큼 \" \"(공백)을 출력하는 함수 printSpace를 만든다.(a만큼 공백을 출력하는 것은 print(\" \"*a, sep='')를 사용한다)</br>\n",
    "위에서 만든 함수를 이용해 아래의 출력예시와 똑같이 출력한다.\n",
    "\n",
    "출력예시: </br>\n",
    "&#160;* </br>\n",
    "&#160;&#160;** </br>\n",
    "&#160;&#160;&#160;*** </br>\n",
    "&#160;&#160;&#160;&#160;**** </br>\n",
    "&#160;&#160;&#160;&#160;&#160;***** </br>"
   ]
  },
  {
   "cell_type": "code",
   "execution_count": 1,
   "metadata": {},
   "outputs": [
    {
     "data": {
      "text/plain": [
       "'\\n출력예시:\\n*\\n **\\n  ***\\n   ****\\n    *****\\n'"
      ]
     },
     "execution_count": 1,
     "metadata": {},
     "output_type": "execute_result"
    }
   ],
   "source": [
    "\"\"\"\n",
    "출력예시:\n",
    "*\n",
    " **\n",
    "  ***\n",
    "   ****\n",
    "    *****\n",
    "\"\"\""
   ]
  },
  {
   "cell_type": "code",
   "execution_count": 7,
   "metadata": {},
   "outputs": [
    {
     "name": "stdout",
     "output_type": "stream",
     "text": [
      " *\n",
      "  **\n",
      "   ***\n",
      "    ****\n",
      "     *****\n"
     ]
    }
   ],
   "source": [
    "#문제 3번\n",
    "\n",
    "def printSpace(a) :\n",
    "     return(\" \"*a)\n",
    "\n",
    "def printStar(a) : \n",
    "     return(\"*\"*a)\n",
    "\n",
    "a=int(input())\n",
    "\n",
    "for i in range(1,a+1):\n",
    "     print(printSpace(i),printStar(i),sep='')"
   ]
  },
  {
   "cell_type": "markdown",
   "metadata": {},
   "source": [
    "**<span style=\"color:#ffdce0\">문제 4번</span>**\n",
    "\n",
    "pow() 함수를 사용하여 직각삼각형의 빗변의 길이 c를 구하시오. (0 < a , b < c)\n",
    "\n",
    "입력예시: a = 3, b = 4\n",
    "\n",
    "출력예시: 5\n"
   ]
  },
  {
   "cell_type": "code",
   "execution_count": 11,
   "metadata": {},
   "outputs": [
    {
     "name": "stdout",
     "output_type": "stream",
     "text": [
      "3\n",
      "4\n",
      "5.0\n"
     ]
    }
   ],
   "source": [
    "#문제 4번\n",
    "\n",
    "a = int(input())\n",
    "b = int(input())\n",
    "c = (a**2 + b**2)**(1/2)\n",
    "print(a)\n",
    "print(b)\n",
    "print(c)\n"
   ]
  },
  {
   "attachments": {},
   "cell_type": "markdown",
   "metadata": {},
   "source": [
    "**<span style=\"color:#ffdce0\">문제 5번</span>**\n",
    "\n",
    "min(), max() 함수를 사용하여 파라미터 1, 2, 3, 4, 5의 최솟값, 최댓값을 구하시오.\n",
    "\n",
    "입력예시:\n",
    "1, 2, 3, 4, 5\n",
    "\n",
    "출력예시:\n",
    "1, 5"
   ]
  },
  {
   "cell_type": "code",
   "execution_count": 13,
   "metadata": {},
   "outputs": [
    {
     "name": "stdout",
     "output_type": "stream",
     "text": [
      "1\n",
      "5\n"
     ]
    }
   ],
   "source": [
    "#문제 5번\n",
    "a = (1, 2, 3, 4, 5)\n",
    "print(min(a))\n",
    "print(max(a))"
   ]
  },
  {
   "cell_type": "markdown",
   "metadata": {},
   "source": [
    "**<span style=\"color:#ffdce0\">문제 6번</span>**\n",
    "\n",
    "n을 인자로 받아 1부터 n까지의 합을 반환하는 함수를 만드시오. \n",
    "\n",
    "조건: n은 1 이상인 정수이며 함수 내에 반복문을 사용하지 않고 구현함\n",
    "\n",
    "입력예시: 10\n",
    "\n",
    "출력: 55\n"
   ]
  },
  {
   "cell_type": "code",
   "execution_count": 14,
   "metadata": {},
   "outputs": [
    {
     "name": "stdout",
     "output_type": "stream",
     "text": [
      "10\n",
      "55.0\n"
     ]
    }
   ],
   "source": [
    "#문제 6번\n",
    "\n",
    "def sigma(n) :\n",
    "    return n*(n+1)/2\n",
    "\n",
    "n = int(input())\n",
    "print(n)\n",
    "print(sigma(n))"
   ]
  }
 ],
 "metadata": {
  "interpreter": {
   "hash": "6e11f4c1efbbb7e108f41e786f571b27c3c9811501888d7e8c289e34fb7fbc6f"
  },
  "kernelspec": {
   "display_name": "Python 3.10.2 64-bit",
   "language": "python",
   "name": "python3"
  },
  "language_info": {
   "codemirror_mode": {
    "name": "ipython",
    "version": 3
   },
   "file_extension": ".py",
   "mimetype": "text/x-python",
   "name": "python",
   "nbconvert_exporter": "python",
   "pygments_lexer": "ipython3",
   "version": "3.11.2"
  },
  "orig_nbformat": 4
 },
 "nbformat": 4,
 "nbformat_minor": 2
}
