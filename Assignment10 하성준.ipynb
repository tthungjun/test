{
 "cells": [
  {
   "cell_type": "markdown",
   "metadata": {},
   "source": [
    "**<span style=\"color:#ffdce0\">D.Com 2022 신입생 파이썬 스터디</span>**\n",
    "\n",
    "**아홉번째 과제**\n",
    "\n",
    "**과제 풀이 방법:**\n",
    "각 문제 아래 위치한 셀에 코드를 작성하고\n",
    "\"Shift\" + \"Enter\" 를 눌러 셀을 실행시켜 조건에 따른 올바른 결과가 나오도록 합니다.\n",
    "\n",
    "**과제 제출 기한:**\n",
    "일요일 저녁 10시 전까지 \"멘토/신승민\"에게 디스코드 개인 메세지로 과제 제출해주시면 됩니다.\n",
    "\n",
    "**과제 제출 유의사항:**\n",
    "파일 이름을  \"**Assignment9_홍길동**\" 과 같이 뒤에 이름을 붙여 바꿔주신 후 제출해주시면 됩니다.\n"
   ]
  },
  {
   "cell_type": "markdown",
   "metadata": {},
   "source": [
    "**<span style=\"color:#ffdce0\">문제 1번</span>**</br>\n",
    "</br>\n",
    "주어진 txt파일을 읽고 공백을 기준으로 나누어 리스트에 저장한후, 리스트 출력하라</br>\n",
    "</br>\n",
    "조건 1. 주어진 \"problem1.txt\"파일을 읽기 모드로 with as 를 이용해 연다.</br>\n",
    "</br>\n",
    "입력 파일 형식:</br>\n",
    "Hello World!. Welcome</br>\n",
    "D.COM! Let's</br>\n",
    "enjoy programming!</br>\n",
    "</br>\n",
    "출력 형식:</br>\n",
    "[['Hello', 'World!.', 'Welcome'], ['D.COM!', \"Let's\"], ['enjoy', 'programming!']]</br>\n",
    "</br>"
   ]
  },
  {
   "cell_type": "code",
   "execution_count": 2,
   "metadata": {},
   "outputs": [
    {
     "name": "stdout",
     "output_type": "stream",
     "text": [
      "[['Hello', 'World!.', 'Welcome'], ['D.COM!', \"Let's\"], ['enjoy', 'programming!']]\n"
     ]
    }
   ],
   "source": [
    "#문제 1번\n",
    "\n",
    "fileList = []\n",
    "\n",
    "with open('problem1.txt', 'r') as file:\n",
    "    for line in file:\n",
    "        fileList.append(line.strip().split())\n",
    "\n",
    "print(fileList)\n"
   ]
  },
  {
   "cell_type": "markdown",
   "metadata": {},
   "source": [
    "**<span style=\"color:#ffdce0\">문제 2번</span>**</br>\n",
    "</br>\n",
    "구구단이 8단까지만 저장되어있는 파일 뒤에 9단을 추가하는 코드를 작성하라</br>\n",
    "</br>\n",
    "조건 1. open()을 사용하되, 'a' 모드를 사용한다.</br>\n",
    "</br>\n",
    "조건 2. 알맞은 출력 형식에 맞게 파일에 출력한다.</br>\n",
    "</br>\n",
    "입력 파일 형식:</br>\n",
    "...</br>\n",
    "8 x 9 = 72</br>\n",
    "</br>\n",
    "</br>\n",
    "출력 파일 형식:</br>\n",
    "...</br>\n",
    "8 x 9 = 72</br>\n",
    "9 x 1 = 9</br>\n",
    "9 x 2 = 18</br>\n",
    "...</br>\n",
    "9 x 9 = 81</br>\n",
    "</br>"
   ]
  },
  {
   "cell_type": "code",
   "execution_count": 3,
   "metadata": {},
   "outputs": [],
   "source": [
    "#문제 2번\n",
    "\n",
    "file = open('problem2.txt', 'a')\n",
    "\n",
    "for i in range(1, 10):\n",
    "    file.writelines(\"9 x {} = {}\\n\".format(i, 9*i))\n",
    "\n",
    "file.close()\n"
   ]
  },
  {
   "cell_type": "markdown",
   "metadata": {},
   "source": []
  },
  {
   "cell_type": "code",
   "execution_count": null,
   "metadata": {},
   "outputs": [],
   "source": [
    "#문제 4번\n"
   ]
  },
  {
   "cell_type": "markdown",
   "metadata": {},
   "source": [
    "**<span style=\"color:#ffdce0\">문제 5번</span>**</br>\n",
    "</br>\n",
    "알파벳을 담은 파일이 깨진것을 확인해 깨진 부분의 알파벳을 다른 파일로 복원하는 코드를 작성하시오</br>\n",
    "</br>\n",
    "조건 1. 'problem2.txt'파일에 \"2 OOOOOOOOO\"라고 되어있는 부분을 제대로 복구한다.</br>\n",
    "</br>\n",
    "조건 2. 파일을 복구할 때 새로운 'problem2Answer.txt'라는 파일에 내용을 담아 저장한다.</br>\n",
    "</br>\n",
    "조건 3. 당신은 2번째 줄이 잘못되어있다는 것을 이미 알고있으니 2번째 줄일경우만 복원한 데이터를 저장하고,</br>\n",
    "그 외는 원래 파일의 데이터를 저장한다.</br>\n",
    "</br>\n",
    "입력 파일 형식:</br>\n",
    "1 ABCDEFGHI</br>\n",
    "2 OOOOOOOOO</br>\n",
    "3 STUVWXYZ</br>\n",
    "</br>\n",
    "출력 파일 형식:</br>\n",
    "1 ABCDEFGHI</br>\n",
    "2 JKLMNOPQR</br>\n",
    "3 STUVWXYZ</br>\n",
    "</br>"
   ]
  },
  {
   "cell_type": "code",
   "execution_count": 43,
   "metadata": {},
   "outputs": [],
   "source": [
    "#문제 5번\n",
    "#문제풀이 흐름은 자유지만 내가 푼 것은\n",
    "#1. 읽을 파일(복원해야할 파일)의 데이터를 \"줄단위\"로 List에 담아 저장해논다\n",
    "#2. 담아논 List에서 2번째 줄이 이상한 것을 알기에 \"2\" in line을 통해 줄에 2 가 있을 경우 그 줄을 정답 데이터로 출력하고\n",
    "#3. 그렇지 않은 경우(데이터가 정상적)에는 그냥 line을 출력\n",
    "\n",
    "file = open('problem5.txt', 'r')\n",
    "\n",
    "List = file.readlines()\n",
    "\n",
    "#print(List)\n",
    "\n",
    "with open('problem5Answer.txt', 'w') as writeFile:\n",
    "    for line in List:\n",
    "        if \"2\" in line:\n",
    "            writeFile.writelines(\"2 JKLMNOPQR\\n\")\n",
    "        else:\n",
    "            writeFile.writelines(line)\n",
    "\n",
    "file.close()\n"
   ]
  },
  {
   "cell_type": "markdown",
   "metadata": {},
   "source": []
  },
  {
   "cell_type": "code",
   "execution_count": null,
   "metadata": {},
   "outputs": [],
   "source": [
    "#문제 6번\n"
   ]
  }
 ],
 "metadata": {
  "interpreter": {
   "hash": "6e11f4c1efbbb7e108f41e786f571b27c3c9811501888d7e8c289e34fb7fbc6f"
  },
  "kernelspec": {
   "display_name": "Python 3.10.2 64-bit",
   "language": "python",
   "name": "python3"
  },
  "language_info": {
   "codemirror_mode": {
    "name": "ipython",
    "version": 3
   },
   "file_extension": ".py",
   "mimetype": "text/x-python",
   "name": "python",
   "nbconvert_exporter": "python",
   "pygments_lexer": "ipython3",
   "version": "3.11.2"
  },
  "orig_nbformat": 4
 },
 "nbformat": 4,
 "nbformat_minor": 2
}
